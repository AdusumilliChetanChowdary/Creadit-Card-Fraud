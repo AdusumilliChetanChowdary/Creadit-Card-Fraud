{
 "cells": [
  {
   "cell_type": "code",
   "execution_count": 1,
   "id": "2cff4243",
   "metadata": {
    "_cell_guid": "b1076dfc-b9ad-4769-8c92-a6c4dae69d19",
    "_uuid": "8f2839f25d086af736a60e9eeb907d3b93b6e0e5",
    "execution": {
     "iopub.execute_input": "2023-12-24T14:08:47.526571Z",
     "iopub.status.busy": "2023-12-24T14:08:47.525936Z",
     "iopub.status.idle": "2023-12-24T14:08:48.224636Z",
     "shell.execute_reply": "2023-12-24T14:08:48.223052Z"
    },
    "papermill": {
     "duration": 0.710998,
     "end_time": "2023-12-24T14:08:48.226455",
     "exception": false,
     "start_time": "2023-12-24T14:08:47.515457",
     "status": "completed"
    },
    "tags": []
   },
   "outputs": [
    {
     "name": "stdout",
     "output_type": "stream",
     "text": [
      "/kaggle/input/credit-card-fraud-detection-dataset-2023/creditcard_2023.csv\n",
      "/kaggle/input/creditcardfraud/creditcard.csv\n",
      "/kaggle/input/credit-card-fraud/card_transdata.csv\n"
     ]
    }
   ],
   "source": [
    "# This Python 3 environment comes with many helpful analytics libraries installed\n",
    "# It is defined by the kaggle/python Docker image: https://github.com/kaggle/docker-python\n",
    "# For example, here's several helpful packages to load\n",
    "\n",
    "import numpy as np # linear algebra\n",
    "import pandas as pd # data processing, CSV file I/O (e.g. pd.read_csv)\n",
    "\n",
    "# Input data files are available in the read-only \"../input/\" directory\n",
    "# For example, running this (by clicking run or pressing Shift+Enter) will list all files under the input directory\n",
    "\n",
    "import os\n",
    "for dirname, _, filenames in os.walk('/kaggle/input'):\n",
    "    for filename in filenames:\n",
    "        print(os.path.join(dirname, filename))\n",
    "\n",
    "# You can write up to 20GB to the current directory (/kaggle/working/) that gets preserved as output when you create a version using \"Save & Run All\" \n",
    "# You can also write temporary files to /kaggle/temp/, but they won't be saved outside of the current session"
   ]
  },
  {
   "cell_type": "code",
   "execution_count": 2,
   "id": "5c702487",
   "metadata": {
    "execution": {
     "iopub.execute_input": "2023-12-24T14:08:48.244732Z",
     "iopub.status.busy": "2023-12-24T14:08:48.244279Z",
     "iopub.status.idle": "2023-12-24T14:08:51.780726Z",
     "shell.execute_reply": "2023-12-24T14:08:51.779902Z"
    },
    "papermill": {
     "duration": 3.547371,
     "end_time": "2023-12-24T14:08:51.782423",
     "exception": false,
     "start_time": "2023-12-24T14:08:48.235052",
     "status": "completed"
    },
    "tags": []
   },
   "outputs": [
    {
     "name": "stdout",
     "output_type": "stream",
     "text": [
      "            Time         V1         V2        V3        V4        V5  \\\n",
      "0            0.0  -1.359807  -0.072781  2.536347  1.378155 -0.338321   \n",
      "1            0.0   1.191857   0.266151  0.166480  0.448154  0.060018   \n",
      "2            1.0  -1.358354  -1.340163  1.773209  0.379780 -0.503198   \n",
      "3            1.0  -0.966272  -0.185226  1.792993 -0.863291 -0.010309   \n",
      "4            2.0  -1.158233   0.877737  1.548718  0.403034 -0.407193   \n",
      "...          ...        ...        ...       ...       ...       ...   \n",
      "284802  172786.0 -11.881118  10.071785 -9.834783 -2.066656 -5.364473   \n",
      "284803  172787.0  -0.732789  -0.055080  2.035030 -0.738589  0.868229   \n",
      "284804  172788.0   1.919565  -0.301254 -3.249640 -0.557828  2.630515   \n",
      "284805  172788.0  -0.240440   0.530483  0.702510  0.689799 -0.377961   \n",
      "284806  172792.0  -0.533413  -0.189733  0.703337 -0.506271 -0.012546   \n",
      "\n",
      "              V6        V7        V8        V9  ...       V21       V22  \\\n",
      "0       0.462388  0.239599  0.098698  0.363787  ... -0.018307  0.277838   \n",
      "1      -0.082361 -0.078803  0.085102 -0.255425  ... -0.225775 -0.638672   \n",
      "2       1.800499  0.791461  0.247676 -1.514654  ...  0.247998  0.771679   \n",
      "3       1.247203  0.237609  0.377436 -1.387024  ... -0.108300  0.005274   \n",
      "4       0.095921  0.592941 -0.270533  0.817739  ... -0.009431  0.798278   \n",
      "...          ...       ...       ...       ...  ...       ...       ...   \n",
      "284802 -2.606837 -4.918215  7.305334  1.914428  ...  0.213454  0.111864   \n",
      "284803  1.058415  0.024330  0.294869  0.584800  ...  0.214205  0.924384   \n",
      "284804  3.031260 -0.296827  0.708417  0.432454  ...  0.232045  0.578229   \n",
      "284805  0.623708 -0.686180  0.679145  0.392087  ...  0.265245  0.800049   \n",
      "284806 -0.649617  1.577006 -0.414650  0.486180  ...  0.261057  0.643078   \n",
      "\n",
      "             V23       V24       V25       V26       V27       V28  Amount  \\\n",
      "0      -0.110474  0.066928  0.128539 -0.189115  0.133558 -0.021053  149.62   \n",
      "1       0.101288 -0.339846  0.167170  0.125895 -0.008983  0.014724    2.69   \n",
      "2       0.909412 -0.689281 -0.327642 -0.139097 -0.055353 -0.059752  378.66   \n",
      "3      -0.190321 -1.175575  0.647376 -0.221929  0.062723  0.061458  123.50   \n",
      "4      -0.137458  0.141267 -0.206010  0.502292  0.219422  0.215153   69.99   \n",
      "...          ...       ...       ...       ...       ...       ...     ...   \n",
      "284802  1.014480 -0.509348  1.436807  0.250034  0.943651  0.823731    0.77   \n",
      "284803  0.012463 -1.016226 -0.606624 -0.395255  0.068472 -0.053527   24.79   \n",
      "284804 -0.037501  0.640134  0.265745 -0.087371  0.004455 -0.026561   67.88   \n",
      "284805 -0.163298  0.123205 -0.569159  0.546668  0.108821  0.104533   10.00   \n",
      "284806  0.376777  0.008797 -0.473649 -0.818267 -0.002415  0.013649  217.00   \n",
      "\n",
      "        Class  \n",
      "0           0  \n",
      "1           0  \n",
      "2           0  \n",
      "3           0  \n",
      "4           0  \n",
      "...       ...  \n",
      "284802      0  \n",
      "284803      0  \n",
      "284804      0  \n",
      "284805      0  \n",
      "284806      0  \n",
      "\n",
      "[284807 rows x 31 columns]\n"
     ]
    }
   ],
   "source": [
    "import numpy as np\n",
    "import pandas as pd\n",
    "\n",
    "dataset_path1 = '/kaggle/input/creditcardfraud/creditcard.csv'# Update with your dataset path\n",
    "df = pd.read_csv(dataset_path1)\n",
    "\n",
    "print(df)\n"
   ]
  },
  {
   "cell_type": "code",
   "execution_count": 3,
   "id": "a95f2f8c",
   "metadata": {
    "execution": {
     "iopub.execute_input": "2023-12-24T14:08:51.800321Z",
     "iopub.status.busy": "2023-12-24T14:08:51.799662Z",
     "iopub.status.idle": "2023-12-24T14:08:51.850185Z",
     "shell.execute_reply": "2023-12-24T14:08:51.849425Z"
    },
    "papermill": {
     "duration": 0.061245,
     "end_time": "2023-12-24T14:08:51.851983",
     "exception": false,
     "start_time": "2023-12-24T14:08:51.790738",
     "status": "completed"
    },
    "tags": []
   },
   "outputs": [
    {
     "name": "stdout",
     "output_type": "stream",
     "text": [
      "           Time        V1        V2        V3        V4        V5        V6  \\\n",
      "0       88729.0  1.775081  0.024814 -0.298319  3.485230  0.206841  1.029062   \n",
      "1      152601.0  2.073789 -0.116198 -1.144069  0.389792 -0.151251 -1.151230   \n",
      "2       80491.0 -0.889680  0.507635  2.856122  3.123872 -0.422746  2.014474   \n",
      "3      168127.0  2.140718 -1.681938 -0.937464 -1.717303 -1.134333  0.152518   \n",
      "4       65319.0 -0.871285  0.580954  2.260900 -0.248957 -0.316936 -0.110956   \n",
      "...         ...       ...       ...       ...       ...       ...       ...   \n",
      "14395  136347.0  1.890249  0.561095 -1.586741  3.535973  0.986080 -0.177919   \n",
      "14396   34767.0  1.111521 -0.158526  0.446614  0.743302 -0.328328  0.046595   \n",
      "14397   43922.0  0.684618 -0.957420  0.584820  0.669102 -0.742233  0.743570   \n",
      "14398  151910.0  1.964684  0.110489 -1.556442  1.307862  0.376046 -0.886383   \n",
      "14399   31816.0  1.467985 -1.054200  0.673330 -1.333963 -1.710516 -0.876843   \n",
      "\n",
      "             V7        V8        V9  ...       V21       V22       V23  \\\n",
      "0     -0.487489  0.272068 -0.623160  ...  0.215588  0.453574  0.003037   \n",
      "1      0.119476 -0.274355  0.687629  ... -0.309833 -0.799276  0.333548   \n",
      "2     -0.320770  0.783447 -0.200736  ... -0.198714 -0.214682 -0.056456   \n",
      "3     -1.339267  0.055444 -1.286162  ... -0.079042  0.096655  0.186660   \n",
      "4      0.381531 -0.080577  0.775982  ...  0.197632  0.738435 -0.203799   \n",
      "...         ...       ...       ...  ...       ...       ...       ...   \n",
      "14395  0.621780 -0.076912 -1.530833  ...  0.139246  0.155448  0.076712   \n",
      "14396 -0.135231  0.053283  0.546667  ... -0.265531 -0.670440  0.019840   \n",
      "14397 -0.445323  0.382176  0.515052  ...  0.308881  0.564670 -0.217933   \n",
      "14398  0.507934 -0.241976  0.036623  ...  0.104099  0.443553 -0.002509   \n",
      "14399 -1.055367 -0.174808 -1.731701  ... -0.361092 -0.735137  0.155867   \n",
      "\n",
      "            V24       V25       V26       V27       V28  Amount  Class  \n",
      "0     -1.135791 -0.202337  0.038094 -0.011720 -0.039746   76.07      0  \n",
      "1     -0.134988 -0.308727  0.208188 -0.076622 -0.063518    0.89      0  \n",
      "2     -0.307520  0.113169  0.276284  0.370290  0.146285   68.45      0  \n",
      "3      0.273146 -0.281908 -0.207526  0.008572 -0.040953   79.00      0  \n",
      "4      0.425004 -0.301380  0.271173 -0.472110 -0.079220    9.99      0  \n",
      "...         ...       ...       ...       ...       ...     ...    ...  \n",
      "14395  0.696213  0.191474  0.021231 -0.107361 -0.064856   37.07      0  \n",
      "14396 -0.254500  0.294502  0.227197 -0.008463  0.018541   54.99      0  \n",
      "14397 -0.222655  0.166149  0.629716 -0.027825  0.034168  216.50      0  \n",
      "14398  0.005577  0.391306 -0.510731 -0.024165 -0.071459   16.18      0  \n",
      "14399  0.283121  0.130332 -0.408866  0.038919  0.032689   33.00      0  \n",
      "\n",
      "[14400 rows x 31 columns]\n"
     ]
    }
   ],
   "source": [
    "fraud_data = df[df['Class'] == 1]\n",
    "not_fraud_data = df[df['Class'] == 0]\n",
    "\n",
    "fraud_size = 400\n",
    "\n",
    "# Randomly sample a subset of fraud data\n",
    "fraud_data_sampled = fraud_data.sample(n=fraud_size, random_state=42)\n",
    "\n",
    "nonfraud_size = 14000\n",
    "# Randomly sample a subset of not fraud data\n",
    "not_fraud_data_sampled = not_fraud_data.sample(n=nonfraud_size, random_state=42)\n",
    "\n",
    "# Concatenate fraud and sampled not fraud data to create a partially balanced dataset\n",
    "balanced_df = pd.concat([fraud_data_sampled, not_fraud_data_sampled])\n",
    "\n",
    "# Shuffle the dataset\n",
    "balanced_df = balanced_df.sample(frac=1, random_state=42).reset_index(drop=True)\n",
    "\n",
    "print(balanced_df)"
   ]
  },
  {
   "cell_type": "code",
   "execution_count": 4,
   "id": "875038df",
   "metadata": {
    "execution": {
     "iopub.execute_input": "2023-12-24T14:08:51.870132Z",
     "iopub.status.busy": "2023-12-24T14:08:51.869483Z",
     "iopub.status.idle": "2023-12-24T14:08:51.876632Z",
     "shell.execute_reply": "2023-12-24T14:08:51.875675Z"
    },
    "papermill": {
     "duration": 0.017957,
     "end_time": "2023-12-24T14:08:51.878443",
     "exception": false,
     "start_time": "2023-12-24T14:08:51.860486",
     "status": "completed"
    },
    "tags": []
   },
   "outputs": [
    {
     "name": "stdout",
     "output_type": "stream",
     "text": [
      "Total Null Values: Time      0\n",
      "V1        0\n",
      "V2        0\n",
      "V3        0\n",
      "V4        0\n",
      "V5        0\n",
      "V6        0\n",
      "V7        0\n",
      "V8        0\n",
      "V9        0\n",
      "V10       0\n",
      "V11       0\n",
      "V12       0\n",
      "V13       0\n",
      "V14       0\n",
      "V15       0\n",
      "V16       0\n",
      "V17       0\n",
      "V18       0\n",
      "V19       0\n",
      "V20       0\n",
      "V21       0\n",
      "V22       0\n",
      "V23       0\n",
      "V24       0\n",
      "V25       0\n",
      "V26       0\n",
      "V27       0\n",
      "V28       0\n",
      "Amount    0\n",
      "Class     0\n",
      "dtype: int64\n"
     ]
    }
   ],
   "source": [
    "total_null_values = balanced_df.isna().sum()\n",
    "print(\"Total Null Values:\", total_null_values)"
   ]
  },
  {
   "cell_type": "code",
   "execution_count": 5,
   "id": "71d0d7aa",
   "metadata": {
    "execution": {
     "iopub.execute_input": "2023-12-24T14:08:51.896604Z",
     "iopub.status.busy": "2023-12-24T14:08:51.896303Z",
     "iopub.status.idle": "2023-12-24T14:08:51.934455Z",
     "shell.execute_reply": "2023-12-24T14:08:51.933381Z"
    },
    "papermill": {
     "duration": 0.049761,
     "end_time": "2023-12-24T14:08:51.936578",
     "exception": false,
     "start_time": "2023-12-24T14:08:51.886817",
     "status": "completed"
    },
    "tags": []
   },
   "outputs": [
    {
     "name": "stdout",
     "output_type": "stream",
     "text": [
      "Total Duplicates: 16\n"
     ]
    }
   ],
   "source": [
    "total_duplicates = balanced_df.duplicated().sum()\n",
    "print(\"Total Duplicates:\", total_duplicates)"
   ]
  },
  {
   "cell_type": "code",
   "execution_count": 6,
   "id": "37d07c12",
   "metadata": {
    "execution": {
     "iopub.execute_input": "2023-12-24T14:08:51.955905Z",
     "iopub.status.busy": "2023-12-24T14:08:51.955592Z",
     "iopub.status.idle": "2023-12-24T14:08:51.997746Z",
     "shell.execute_reply": "2023-12-24T14:08:51.996147Z"
    },
    "papermill": {
     "duration": 0.053854,
     "end_time": "2023-12-24T14:08:51.999629",
     "exception": false,
     "start_time": "2023-12-24T14:08:51.945775",
     "status": "completed"
    },
    "tags": []
   },
   "outputs": [
    {
     "name": "stdout",
     "output_type": "stream",
     "text": [
      "           Time        V1        V2        V3        V4        V5        V6  \\\n",
      "0       88729.0  1.775081  0.024814 -0.298319  3.485230  0.206841  1.029062   \n",
      "1      152601.0  2.073789 -0.116198 -1.144069  0.389792 -0.151251 -1.151230   \n",
      "2       80491.0 -0.889680  0.507635  2.856122  3.123872 -0.422746  2.014474   \n",
      "3      168127.0  2.140718 -1.681938 -0.937464 -1.717303 -1.134333  0.152518   \n",
      "4       65319.0 -0.871285  0.580954  2.260900 -0.248957 -0.316936 -0.110956   \n",
      "...         ...       ...       ...       ...       ...       ...       ...   \n",
      "14395  136347.0  1.890249  0.561095 -1.586741  3.535973  0.986080 -0.177919   \n",
      "14396   34767.0  1.111521 -0.158526  0.446614  0.743302 -0.328328  0.046595   \n",
      "14397   43922.0  0.684618 -0.957420  0.584820  0.669102 -0.742233  0.743570   \n",
      "14398  151910.0  1.964684  0.110489 -1.556442  1.307862  0.376046 -0.886383   \n",
      "14399   31816.0  1.467985 -1.054200  0.673330 -1.333963 -1.710516 -0.876843   \n",
      "\n",
      "             V7        V8        V9  ...       V21       V22       V23  \\\n",
      "0     -0.487489  0.272068 -0.623160  ...  0.215588  0.453574  0.003037   \n",
      "1      0.119476 -0.274355  0.687629  ... -0.309833 -0.799276  0.333548   \n",
      "2     -0.320770  0.783447 -0.200736  ... -0.198714 -0.214682 -0.056456   \n",
      "3     -1.339267  0.055444 -1.286162  ... -0.079042  0.096655  0.186660   \n",
      "4      0.381531 -0.080577  0.775982  ...  0.197632  0.738435 -0.203799   \n",
      "...         ...       ...       ...  ...       ...       ...       ...   \n",
      "14395  0.621780 -0.076912 -1.530833  ...  0.139246  0.155448  0.076712   \n",
      "14396 -0.135231  0.053283  0.546667  ... -0.265531 -0.670440  0.019840   \n",
      "14397 -0.445323  0.382176  0.515052  ...  0.308881  0.564670 -0.217933   \n",
      "14398  0.507934 -0.241976  0.036623  ...  0.104099  0.443553 -0.002509   \n",
      "14399 -1.055367 -0.174808 -1.731701  ... -0.361092 -0.735137  0.155867   \n",
      "\n",
      "            V24       V25       V26       V27       V28  Amount  Class  \n",
      "0     -1.135791 -0.202337  0.038094 -0.011720 -0.039746   76.07      0  \n",
      "1     -0.134988 -0.308727  0.208188 -0.076622 -0.063518    0.89      0  \n",
      "2     -0.307520  0.113169  0.276284  0.370290  0.146285   68.45      0  \n",
      "3      0.273146 -0.281908 -0.207526  0.008572 -0.040953   79.00      0  \n",
      "4      0.425004 -0.301380  0.271173 -0.472110 -0.079220    9.99      0  \n",
      "...         ...       ...       ...       ...       ...     ...    ...  \n",
      "14395  0.696213  0.191474  0.021231 -0.107361 -0.064856   37.07      0  \n",
      "14396 -0.254500  0.294502  0.227197 -0.008463  0.018541   54.99      0  \n",
      "14397 -0.222655  0.166149  0.629716 -0.027825  0.034168  216.50      0  \n",
      "14398  0.005577  0.391306 -0.510731 -0.024165 -0.071459   16.18      0  \n",
      "14399  0.283121  0.130332 -0.408866  0.038919  0.032689   33.00      0  \n",
      "\n",
      "[14384 rows x 31 columns]\n"
     ]
    }
   ],
   "source": [
    "balanced_df.drop_duplicates(inplace=True)\n",
    "print(balanced_df)"
   ]
  },
  {
   "cell_type": "code",
   "execution_count": 7,
   "id": "a8865bfd",
   "metadata": {
    "execution": {
     "iopub.execute_input": "2023-12-24T14:08:52.020698Z",
     "iopub.status.busy": "2023-12-24T14:08:52.020292Z",
     "iopub.status.idle": "2023-12-24T14:08:52.095894Z",
     "shell.execute_reply": "2023-12-24T14:08:52.094821Z"
    },
    "papermill": {
     "duration": 0.088497,
     "end_time": "2023-12-24T14:08:52.097693",
     "exception": false,
     "start_time": "2023-12-24T14:08:52.009196",
     "status": "completed"
    },
    "tags": []
   },
   "outputs": [
    {
     "name": "stdout",
     "output_type": "stream",
     "text": [
      "                Time            V1            V2            V3            V4  \\\n",
      "count   14384.000000  14384.000000  14384.000000  14384.000000  14384.000000   \n",
      "mean    94733.832870     -0.099205      0.085352     -0.179362      0.107339   \n",
      "std     47487.984261      2.271766      1.787920      2.082457      1.612197   \n",
      "min         0.000000    -30.515455    -32.494845    -30.558697     -4.938824   \n",
      "25%     54376.750000     -0.947784     -0.590767     -1.002975     -0.816434   \n",
      "50%     85014.000000      0.010518      0.084272      0.125815      0.020346   \n",
      "75%    139156.500000      1.306772      0.854113      0.988118      0.815875   \n",
      "max    172768.000000      2.398119     22.057729      3.770236     11.864868   \n",
      "\n",
      "                 V5            V6            V7            V8            V9  \\\n",
      "count  14384.000000  14384.000000  14384.000000  14384.000000  14384.000000   \n",
      "mean      -0.056863     -0.044164     -0.139763      0.032526     -0.042171   \n",
      "std        1.629241      1.355501      1.774115      1.457848      1.226990   \n",
      "min      -21.665654    -17.282140    -43.557242    -41.044261    -13.434066   \n",
      "25%       -0.702368     -0.797753     -0.601634     -0.204754     -0.668978   \n",
      "50%       -0.058870     -0.292812      0.019538      0.026580     -0.053966   \n",
      "75%        0.627721      0.385588      0.570249      0.349634      0.606893   \n",
      "max       28.516513     15.323769     15.915767     19.587773      7.929051   \n",
      "\n",
      "       ...           V21           V22           V23           V24  \\\n",
      "count  ...  14384.000000  14384.000000  14384.000000  14384.000000   \n",
      "mean   ...      0.010151      0.002449     -0.001271     -0.004348   \n",
      "std    ...      0.841555      0.735900      0.620351      0.611335   \n",
      "min    ...    -22.797604     -8.887017    -19.254328     -2.836627   \n",
      "25%    ...     -0.223305     -0.545948     -0.164811     -0.354614   \n",
      "50%    ...     -0.023424      0.008460     -0.009835      0.037328   \n",
      "75%    ...      0.193523      0.526523      0.154933      0.435723   \n",
      "max    ...     27.202839      8.361985     15.626067      4.016342   \n",
      "\n",
      "                V25           V26           V27           V28        Amount  \\\n",
      "count  14384.000000  14384.000000  14384.000000  14384.000000  14384.000000   \n",
      "mean      -0.006937      0.003659      0.005543      0.004422     86.896215   \n",
      "std        0.530233      0.483672      0.441443      0.340438    220.728290   \n",
      "min       -4.781606     -1.581931     -9.543518     -8.307955      0.000000   \n",
      "25%       -0.325307     -0.326569     -0.069848     -0.052329      5.000000   \n",
      "50%        0.011122     -0.041134      0.002870      0.011839     21.100000   \n",
      "75%        0.349134      0.252449      0.098551      0.082129     76.232500   \n",
      "max        5.541598      3.039297      9.879903     15.870474   5627.060000   \n",
      "\n",
      "              Class  \n",
      "count  14384.000000  \n",
      "mean       0.026835  \n",
      "std        0.161608  \n",
      "min        0.000000  \n",
      "25%        0.000000  \n",
      "50%        0.000000  \n",
      "75%        0.000000  \n",
      "max        1.000000  \n",
      "\n",
      "[8 rows x 31 columns]\n"
     ]
    }
   ],
   "source": [
    "description=balanced_df.describe()\n",
    "print(description)"
   ]
  },
  {
   "cell_type": "code",
   "execution_count": 8,
   "id": "02c02410",
   "metadata": {
    "execution": {
     "iopub.execute_input": "2023-12-24T14:08:52.117206Z",
     "iopub.status.busy": "2023-12-24T14:08:52.116875Z",
     "iopub.status.idle": "2023-12-24T14:08:52.127079Z",
     "shell.execute_reply": "2023-12-24T14:08:52.125580Z"
    },
    "papermill": {
     "duration": 0.02213,
     "end_time": "2023-12-24T14:08:52.128859",
     "exception": false,
     "start_time": "2023-12-24T14:08:52.106729",
     "status": "completed"
    },
    "tags": []
   },
   "outputs": [
    {
     "name": "stdout",
     "output_type": "stream",
     "text": [
      "Class Distribution:\n",
      "Class\n",
      "0    13998\n",
      "1      386\n",
      "Name: count, dtype: int64\n"
     ]
    }
   ],
   "source": [
    "class_counts = balanced_df['Class'].value_counts()\n",
    "print(\"Class Distribution:\")\n",
    "print(class_counts)"
   ]
  },
  {
   "cell_type": "code",
   "execution_count": 9,
   "id": "298b5e57",
   "metadata": {
    "execution": {
     "iopub.execute_input": "2023-12-24T14:08:52.148979Z",
     "iopub.status.busy": "2023-12-24T14:08:52.148654Z",
     "iopub.status.idle": "2023-12-24T14:08:52.154185Z",
     "shell.execute_reply": "2023-12-24T14:08:52.153395Z"
    },
    "papermill": {
     "duration": 0.017296,
     "end_time": "2023-12-24T14:08:52.155727",
     "exception": false,
     "start_time": "2023-12-24T14:08:52.138431",
     "status": "completed"
    },
    "tags": []
   },
   "outputs": [],
   "source": [
    "X = balanced_df.drop([\"Class\"], axis=1)\n",
    "Y = balanced_df[\"Class\"]"
   ]
  },
  {
   "cell_type": "code",
   "execution_count": 10,
   "id": "4eabc995",
   "metadata": {
    "execution": {
     "iopub.execute_input": "2023-12-24T14:08:52.175040Z",
     "iopub.status.busy": "2023-12-24T14:08:52.174670Z",
     "iopub.status.idle": "2023-12-24T14:08:53.141769Z",
     "shell.execute_reply": "2023-12-24T14:08:53.141037Z"
    },
    "papermill": {
     "duration": 0.979059,
     "end_time": "2023-12-24T14:08:53.143839",
     "exception": false,
     "start_time": "2023-12-24T14:08:52.164780",
     "status": "completed"
    },
    "tags": []
   },
   "outputs": [],
   "source": [
    "from sklearn.model_selection import train_test_split\n",
    "\n",
    "X_train, X_test, Y_train, Y_test = train_test_split(X, Y, test_size=0.2, random_state=3)"
   ]
  },
  {
   "cell_type": "code",
   "execution_count": 11,
   "id": "475928e6",
   "metadata": {
    "execution": {
     "iopub.execute_input": "2023-12-24T14:08:53.163889Z",
     "iopub.status.busy": "2023-12-24T14:08:53.163032Z",
     "iopub.status.idle": "2023-12-24T14:08:54.113890Z",
     "shell.execute_reply": "2023-12-24T14:08:54.112882Z"
    },
    "papermill": {
     "duration": 0.962868,
     "end_time": "2023-12-24T14:08:54.115879",
     "exception": false,
     "start_time": "2023-12-24T14:08:53.153011",
     "status": "completed"
    },
    "tags": []
   },
   "outputs": [],
   "source": [
    "from sklearn.tree import DecisionTreeClassifier\n",
    "from sklearn.metrics import accuracy_score, classification_report, confusion_matrix\n",
    "\n",
    "dt_model = DecisionTreeClassifier(random_state=3)\n",
    "\n",
    "# Train the model on the training data\n",
    "dt_model.fit(X_train, Y_train)\n",
    "\n",
    "# Make predictions on the test set\n",
    "Y_pred = dt_model.predict(X_test)"
   ]
  },
  {
   "cell_type": "code",
   "execution_count": 12,
   "id": "71f372ad",
   "metadata": {
    "execution": {
     "iopub.execute_input": "2023-12-24T14:08:54.135041Z",
     "iopub.status.busy": "2023-12-24T14:08:54.134753Z",
     "iopub.status.idle": "2023-12-24T14:08:54.150181Z",
     "shell.execute_reply": "2023-12-24T14:08:54.149305Z"
    },
    "papermill": {
     "duration": 0.027097,
     "end_time": "2023-12-24T14:08:54.152212",
     "exception": false,
     "start_time": "2023-12-24T14:08:54.125115",
     "status": "completed"
    },
    "tags": []
   },
   "outputs": [
    {
     "name": "stdout",
     "output_type": "stream",
     "text": [
      "Accuracy Score: 0.9895724713242962\n",
      "\n",
      "Classification Report:\n",
      "              precision    recall  f1-score   support\n",
      "\n",
      "           0       0.99      0.99      0.99      2802\n",
      "           1       0.80      0.80      0.80        75\n",
      "\n",
      "    accuracy                           0.99      2877\n",
      "   macro avg       0.90      0.90      0.90      2877\n",
      "weighted avg       0.99      0.99      0.99      2877\n",
      "\n",
      "\n",
      "Confusion Matrix:\n",
      "[[2787   15]\n",
      " [  15   60]]\n"
     ]
    }
   ],
   "source": [
    "# Evaluate the model\n",
    "accuracy = accuracy_score(Y_test, Y_pred)\n",
    "classification_report_result = classification_report(Y_test, Y_pred)\n",
    "confusion_matrix_result = confusion_matrix(Y_test, Y_pred)\n",
    "\n",
    "# Print the results\n",
    "print(f\"Accuracy Score: {accuracy}\")\n",
    "print(\"\\nClassification Report:\")\n",
    "print(classification_report_result)\n",
    "print(\"\\nConfusion Matrix:\")\n",
    "print(confusion_matrix_result)"
   ]
  },
  {
   "cell_type": "code",
   "execution_count": 13,
   "id": "8eb3c4d9",
   "metadata": {
    "execution": {
     "iopub.execute_input": "2023-12-24T14:08:54.171911Z",
     "iopub.status.busy": "2023-12-24T14:08:54.171600Z",
     "iopub.status.idle": "2023-12-24T14:08:54.176181Z",
     "shell.execute_reply": "2023-12-24T14:08:54.175158Z"
    },
    "papermill": {
     "duration": 0.016703,
     "end_time": "2023-12-24T14:08:54.177992",
     "exception": false,
     "start_time": "2023-12-24T14:08:54.161289",
     "status": "completed"
    },
    "tags": []
   },
   "outputs": [],
   "source": [
    "from sklearn.svm import SVC\n",
    "from sklearn.metrics import accuracy_score, classification_report, confusion_matrix\n",
    "\n",
    "svm_model=SVC()\n"
   ]
  },
  {
   "cell_type": "code",
   "execution_count": 14,
   "id": "d41b37bc",
   "metadata": {
    "execution": {
     "iopub.execute_input": "2023-12-24T14:08:54.197848Z",
     "iopub.status.busy": "2023-12-24T14:08:54.197502Z",
     "iopub.status.idle": "2023-12-24T14:08:54.733583Z",
     "shell.execute_reply": "2023-12-24T14:08:54.732406Z"
    },
    "papermill": {
     "duration": 0.5486,
     "end_time": "2023-12-24T14:08:54.735909",
     "exception": false,
     "start_time": "2023-12-24T14:08:54.187309",
     "status": "completed"
    },
    "tags": []
   },
   "outputs": [
    {
     "name": "stdout",
     "output_type": "stream",
     "text": [
      "Accuracy Score:  0.992005561348627\n",
      "Confusion Matrix:\n",
      " [[2801    1]\n",
      " [  22   53]]\n",
      "Classification Report:\n",
      "               precision    recall  f1-score   support\n",
      "\n",
      "           0       0.99      1.00      1.00      2802\n",
      "           1       0.98      0.71      0.82        75\n",
      "\n",
      "    accuracy                           0.99      2877\n",
      "   macro avg       0.99      0.85      0.91      2877\n",
      "weighted avg       0.99      0.99      0.99      2877\n",
      "\n"
     ]
    }
   ],
   "source": [
    "from sklearn.preprocessing import StandardScaler\n",
    "\n",
    "scaler = StandardScaler()\n",
    "X_train_scaled = scaler.fit_transform(X_train)\n",
    "X_test_scaled = scaler.transform(X_test)\n",
    "\n",
    "svm_model.fit(X_train_scaled, Y_train)\n",
    "\n",
    "pred = svm_model.predict(X_test_scaled)\n",
    "\n",
    "print(\"Accuracy Score: \", accuracy_score(Y_test, pred))\n",
    "print(\"Confusion Matrix:\\n\", confusion_matrix(Y_test, pred))\n",
    "print(\"Classification Report:\\n\", classification_report(Y_test, pred))\n",
    "\n"
   ]
  },
  {
   "cell_type": "code",
   "execution_count": 15,
   "id": "02b1b58c",
   "metadata": {
    "execution": {
     "iopub.execute_input": "2023-12-24T14:08:54.755621Z",
     "iopub.status.busy": "2023-12-24T14:08:54.754881Z",
     "iopub.status.idle": "2023-12-24T14:08:55.167379Z",
     "shell.execute_reply": "2023-12-24T14:08:55.166494Z"
    },
    "papermill": {
     "duration": 0.424208,
     "end_time": "2023-12-24T14:08:55.169293",
     "exception": false,
     "start_time": "2023-12-24T14:08:54.745085",
     "status": "completed"
    },
    "tags": []
   },
   "outputs": [
    {
     "data": {
      "image/png": "[encoded data removed]",
      "text/plain": [
       "<Figure size 400x200 with 2 Axes>"
      ]
     },
     "metadata": {},
     "output_type": "display_data"
    }
   ],
   "source": [
    "import matplotlib.pyplot as plt\n",
    "import seaborn as sns\n",
    "\n",
    "cm = confusion_matrix(Y_test, pred)\n",
    "plt.figure(figsize=(4, 2))\n",
    "sns.heatmap(cm, annot=True, fmt=\"d\", cmap=\"Blues\", xticklabels=svm_model.classes_, yticklabels=svm_model.classes_)\n",
    "plt.title(\"Confusion Matrix\")\n",
    "plt.xlabel(\"Predicted\")\n",
    "plt.ylabel(\"Actual\")\n",
    "plt.show()"
   ]
  },
  {
   "cell_type": "code",
   "execution_count": 16,
   "id": "2538f87f",
   "metadata": {
    "execution": {
     "iopub.execute_input": "2023-12-24T14:08:55.189670Z",
     "iopub.status.busy": "2023-12-24T14:08:55.189137Z",
     "iopub.status.idle": "2023-12-24T14:09:01.343702Z",
     "shell.execute_reply": "2023-12-24T14:09:01.342513Z"
    },
    "papermill": {
     "duration": 6.166449,
     "end_time": "2023-12-24T14:09:01.345437",
     "exception": false,
     "start_time": "2023-12-24T14:08:55.178988",
     "status": "completed"
    },
    "tags": []
   },
   "outputs": [
    {
     "name": "stdout",
     "output_type": "stream",
     "text": [
      "            id        V1        V2        V3        V4        V5        V6  \\\n",
      "0            0 -0.260648 -0.469648  2.496266 -0.083724  0.129681  0.732898   \n",
      "1            1  0.985100 -0.356045  0.558056 -0.429654  0.277140  0.428605   \n",
      "2            2 -0.260272 -0.949385  1.728538 -0.457986  0.074062  1.419481   \n",
      "3            3 -0.152152 -0.508959  1.746840 -1.090178  0.249486  1.143312   \n",
      "4            4 -0.206820 -0.165280  1.527053 -0.448293  0.106125  0.530549   \n",
      "...        ...       ...       ...       ...       ...       ...       ...   \n",
      "568625  568625 -0.833437  0.061886 -0.899794  0.904227 -1.002401  0.481454   \n",
      "568626  568626 -0.670459 -0.202896 -0.068129 -0.267328 -0.133660  0.237148   \n",
      "568627  568627 -0.311997 -0.004095  0.137526 -0.035893 -0.042291  0.121098   \n",
      "568628  568628  0.636871 -0.516970 -0.300889 -0.144480  0.131042 -0.294148   \n",
      "568629  568629 -0.795144  0.433236 -0.649140  0.374732 -0.244976 -0.603493   \n",
      "\n",
      "              V7        V8        V9  ...       V21       V22       V23  \\\n",
      "0       0.519014 -0.130006  0.727159  ... -0.110552  0.217606 -0.134794   \n",
      "1       0.406466 -0.133118  0.347452  ... -0.194936 -0.605761  0.079469   \n",
      "2       0.743511 -0.095576 -0.261297  ... -0.005020  0.702906  0.945045   \n",
      "3       0.518269 -0.065130 -0.205698  ... -0.146927 -0.038212 -0.214048   \n",
      "4       0.658849 -0.212660  1.049921  ... -0.106984  0.729727 -0.161666   \n",
      "...          ...       ...       ...  ...       ...       ...       ...   \n",
      "568625 -0.370393  0.189694 -0.938153  ...  0.167503  0.419731  1.288249   \n",
      "568626 -0.016935 -0.147733  0.483894  ...  0.031874  0.388161 -0.154257   \n",
      "568627 -0.070958 -0.019997 -0.122048  ...  0.140788  0.536523 -0.211100   \n",
      "568628  0.580568 -0.207723  0.893527  ... -0.060381 -0.195609 -0.175488   \n",
      "568629 -0.347613 -0.340814  0.253971  ...  0.534853 -0.291514  0.157303   \n",
      "\n",
      "             V24       V25       V26       V27       V28    Amount  Class  \n",
      "0       0.165959  0.126280 -0.434824 -0.081230 -0.151045  17982.10      0  \n",
      "1      -0.577395  0.190090  0.296503 -0.248052 -0.064512   6531.37      0  \n",
      "2      -1.154666 -0.605564 -0.312895 -0.300258 -0.244718   2513.54      0  \n",
      "3      -1.893131  1.003963 -0.515950 -0.165316  0.048424   5384.44      0  \n",
      "4       0.312561 -0.414116  1.071126  0.023712  0.419117  14278.97      0  \n",
      "...          ...       ...       ...       ...       ...       ...    ...  \n",
      "568625 -0.900861  0.560661 -0.006018  3.308968  0.081564   4394.16      1  \n",
      "568626 -0.846452 -0.153443  1.961398 -1.528642  1.704306   4653.40      1  \n",
      "568627 -0.448909  0.540073 -0.755836 -0.487540 -0.268741  23572.85      1  \n",
      "568628 -0.554643 -0.099669 -1.434931 -0.159269 -0.076251  10160.83      1  \n",
      "568629  0.931030 -0.349423 -1.090974 -1.575113  0.722936  21493.92      1  \n",
      "\n",
      "[568630 rows x 31 columns]\n"
     ]
    }
   ],
   "source": [
    "dataset_path2 = '/kaggle/input/credit-card-fraud-detection-dataset-2023/creditcard_2023.csv'# Update with your dataset path\n",
    "df = pd.read_csv(dataset_path2)\n",
    "\n",
    "print(df)"
   ]
  },
  {
   "cell_type": "code",
   "execution_count": 17,
   "id": "63c729d4",
   "metadata": {
    "execution": {
     "iopub.execute_input": "2023-12-24T14:09:01.415038Z",
     "iopub.status.busy": "2023-12-24T14:09:01.414679Z",
     "iopub.status.idle": "2023-12-24T14:09:01.482978Z",
     "shell.execute_reply": "2023-12-24T14:09:01.481824Z"
    },
    "papermill": {
     "duration": 0.081108,
     "end_time": "2023-12-24T14:09:01.484973",
     "exception": false,
     "start_time": "2023-12-24T14:09:01.403865",
     "status": "completed"
    },
    "tags": []
   },
   "outputs": [
    {
     "name": "stdout",
     "output_type": "stream",
     "text": [
      "          id        V1        V2        V3        V4        V5        V6  \\\n",
      "0          0  1.649630 -0.768908  0.083791 -0.957894  0.861870  2.540980   \n",
      "1          1 -0.270852 -0.266564  1.198016  0.199319  1.779212  0.497062   \n",
      "2          2  1.824471 -0.315163 -0.584480 -0.781332  2.284680  1.735121   \n",
      "3          3 -0.431323 -0.140438 -0.266495 -0.047924 -0.751208  0.967540   \n",
      "4          4  1.001507 -0.393355  0.619691 -0.369563  0.075739 -0.002063   \n",
      "...      ...       ...       ...       ...       ...       ...       ...   \n",
      "14995  14995  1.622485 -0.621083 -0.083808 -0.422964  1.323428  2.524770   \n",
      "14996  14996 -0.073170 -0.204650  0.776836 -0.655616  1.616048  2.737970   \n",
      "14997  14997  1.594432 -0.519362  0.181239 -0.059634  0.304859  0.684824   \n",
      "14998  14998  0.300123 -0.165475  1.658488  0.407091  0.058204  1.167922   \n",
      "14999  14999  0.962208 -0.519091  0.717963 -0.543808 -0.038885 -0.177372   \n",
      "\n",
      "             V7        V8        V9  ...       V21       V22       V23  \\\n",
      "0     -0.032549  0.139629  1.683124  ... -0.005657  0.736278  0.215203   \n",
      "1      0.896801 -0.147747 -0.490323  ... -0.097068 -0.296296 -0.420940   \n",
      "2      0.511871 -0.025632  0.435417  ... -0.130276 -0.109459 -0.060733   \n",
      "3      1.252411 -0.144200 -0.594294  ... -0.077194 -0.762215  0.629519   \n",
      "4      0.380900 -0.138519  0.548375  ... -0.208969 -0.815333  0.120688   \n",
      "...         ...       ...       ...  ...       ...       ...       ...   \n",
      "14995  0.175715  0.105437  1.205025  ... -0.316014 -1.187225  0.458533   \n",
      "14996  0.439679  0.150065  0.423572  ... -0.335186 -1.242441 -0.127557   \n",
      "14997  0.393083 -0.128440  1.003186  ... -0.209810 -0.448167  0.220211   \n",
      "14998  0.066699 -0.484907 -0.074883  ... -0.440552  0.742647 -0.094449   \n",
      "14999  0.399206 -0.176224  0.821460  ... -0.229334 -1.009701  0.152005   \n",
      "\n",
      "            V24       V25       V26       V27       V28    Amount  Class  \n",
      "0      1.545444 -0.599755 -0.585179 -0.130988 -0.167245   6736.77      0  \n",
      "1      0.608973  1.813665  0.025187 -0.532434 -0.531596   5197.93      0  \n",
      "2      1.130152  0.605101  1.512410 -0.303468 -0.164607   4948.34      0  \n",
      "3      0.241379 -0.347982  1.006519  0.198860 -0.839527  23868.74      1  \n",
      "4      0.496653  0.105563  0.204364 -0.283662 -0.060972  22794.79      0  \n",
      "...         ...       ...       ...       ...       ...       ...    ...  \n",
      "14995  1.325544 -0.543643 -2.936364 -0.155879 -0.181999   7547.81      0  \n",
      "14996  1.351266  0.638042 -1.971390  0.219047  0.230171  22088.88      0  \n",
      "14997  1.484887 -0.021891 -2.296351 -0.200766 -0.198882  15429.14      0  \n",
      "14998  0.415286  0.946544  0.730276 -0.118968  0.308316   7239.62      1  \n",
      "14999  0.766419 -0.150560  1.015291 -0.328122 -0.049129  10048.86      0  \n",
      "\n",
      "[15000 rows x 31 columns]\n"
     ]
    }
   ],
   "source": [
    "# Separate data into fraud and not fraud\n",
    "fraud_data = df[df['Class'] == 1]\n",
    "not_fraud_data = df[df['Class'] == 0]\n",
    "\n",
    "fraud_size = 4000 \n",
    "\n",
    "# Randomly sample a subset of fraud data\n",
    "fraud_data_sampled = fraud_data.sample(n=fraud_size, random_state=42)\n",
    "\n",
    "nonfraud_size = 11000\n",
    "# Randomly sample a subset of not fraud data\n",
    "not_fraud_data_sampled = not_fraud_data.sample(n=nonfraud_size, random_state=42)\n",
    "\n",
    "# Concatenate fraud and sampled not fraud data to create a partially balanced dataset\n",
    "balanced_df = pd.concat([fraud_data_sampled, not_fraud_data_sampled])\n",
    "\n",
    "your_feature = 'id'\n",
    "feature_series = df[your_feature]\n",
    "\n",
    "# Reset the index for the feature\n",
    "feature_series_reset = feature_series.reset_index(drop=True)\n",
    "\n",
    "# Shuffle the dataset\n",
    "balanced_df = balanced_df.sample(frac=1, random_state=42).reset_index(drop=True)\n",
    "balanced_df[your_feature] = feature_series_reset\n",
    "\n",
    "print(balanced_df)"
   ]
  },
  {
   "cell_type": "code",
   "execution_count": 18,
   "id": "467893da",
   "metadata": {
    "execution": {
     "iopub.execute_input": "2023-12-24T14:09:01.506559Z",
     "iopub.status.busy": "2023-12-24T14:09:01.506233Z",
     "iopub.status.idle": "2023-12-24T14:09:01.522494Z",
     "shell.execute_reply": "2023-12-24T14:09:01.520901Z"
    },
    "papermill": {
     "duration": 0.029403,
     "end_time": "2023-12-24T14:09:01.524465",
     "exception": false,
     "start_time": "2023-12-24T14:09:01.495062",
     "status": "completed"
    },
    "tags": []
   },
   "outputs": [
    {
     "name": "stdout",
     "output_type": "stream",
     "text": [
      "             V1        V2        V3        V4        V5        V6        V7  \\\n",
      "0      1.649630 -0.768908  0.083791 -0.957894  0.861870  2.540980 -0.032549   \n",
      "1     -0.270852 -0.266564  1.198016  0.199319  1.779212  0.497062  0.896801   \n",
      "2      1.824471 -0.315163 -0.584480 -0.781332  2.284680  1.735121  0.511871   \n",
      "3     -0.431323 -0.140438 -0.266495 -0.047924 -0.751208  0.967540  1.252411   \n",
      "4      1.001507 -0.393355  0.619691 -0.369563  0.075739 -0.002063  0.380900   \n",
      "...         ...       ...       ...       ...       ...       ...       ...   \n",
      "14995  1.622485 -0.621083 -0.083808 -0.422964  1.323428  2.524770  0.175715   \n",
      "14996 -0.073170 -0.204650  0.776836 -0.655616  1.616048  2.737970  0.439679   \n",
      "14997  1.594432 -0.519362  0.181239 -0.059634  0.304859  0.684824  0.393083   \n",
      "14998  0.300123 -0.165475  1.658488  0.407091  0.058204  1.167922  0.066699   \n",
      "14999  0.962208 -0.519091  0.717963 -0.543808 -0.038885 -0.177372  0.399206   \n",
      "\n",
      "             V8        V9       V10  ...       V21       V22       V23  \\\n",
      "0      0.139629  1.683124  0.527414  ... -0.005657  0.736278  0.215203   \n",
      "1     -0.147747 -0.490323  0.984166  ... -0.097068 -0.296296 -0.420940   \n",
      "2     -0.025632  0.435417  0.234727  ... -0.130276 -0.109459 -0.060733   \n",
      "3     -0.144200 -0.594294 -0.433055  ... -0.077194 -0.762215  0.629519   \n",
      "4     -0.138519  0.548375  0.576099  ... -0.208969 -0.815333  0.120688   \n",
      "...         ...       ...       ...  ...       ...       ...       ...   \n",
      "14995  0.105437  1.205025  0.598122  ... -0.316014 -1.187225  0.458533   \n",
      "14996  0.150065  0.423572  0.409835  ... -0.335186 -1.242441 -0.127557   \n",
      "14997 -0.128440  1.003186  0.650625  ... -0.209810 -0.448167  0.220211   \n",
      "14998 -0.484907 -0.074883  0.766215  ... -0.440552  0.742647 -0.094449   \n",
      "14999 -0.176224  0.821460  0.528890  ... -0.229334 -1.009701  0.152005   \n",
      "\n",
      "            V24       V25       V26       V27       V28    Amount  Class  \n",
      "0      1.545444 -0.599755 -0.585179 -0.130988 -0.167245   6736.77      0  \n",
      "1      0.608973  1.813665  0.025187 -0.532434 -0.531596   5197.93      0  \n",
      "2      1.130152  0.605101  1.512410 -0.303468 -0.164607   4948.34      0  \n",
      "3      0.241379 -0.347982  1.006519  0.198860 -0.839527  23868.74      1  \n",
      "4      0.496653  0.105563  0.204364 -0.283662 -0.060972  22794.79      0  \n",
      "...         ...       ...       ...       ...       ...       ...    ...  \n",
      "14995  1.325544 -0.543643 -2.936364 -0.155879 -0.181999   7547.81      0  \n",
      "14996  1.351266  0.638042 -1.971390  0.219047  0.230171  22088.88      0  \n",
      "14997  1.484887 -0.021891 -2.296351 -0.200766 -0.198882  15429.14      0  \n",
      "14998  0.415286  0.946544  0.730276 -0.118968  0.308316   7239.62      1  \n",
      "14999  0.766419 -0.150560  1.015291 -0.328122 -0.049129  10048.86      0  \n",
      "\n",
      "[15000 rows x 30 columns]\n"
     ]
    }
   ],
   "source": [
    "balanced_df.drop(your_feature, axis=1, inplace=True)\n",
    "print(balanced_df)"
   ]
  },
  {
   "cell_type": "code",
   "execution_count": 19,
   "id": "333ca42c",
   "metadata": {
    "execution": {
     "iopub.execute_input": "2023-12-24T14:09:01.545804Z",
     "iopub.status.busy": "2023-12-24T14:09:01.545489Z",
     "iopub.status.idle": "2023-12-24T14:09:01.552531Z",
     "shell.execute_reply": "2023-12-24T14:09:01.551340Z"
    },
    "papermill": {
     "duration": 0.020133,
     "end_time": "2023-12-24T14:09:01.554642",
     "exception": false,
     "start_time": "2023-12-24T14:09:01.534509",
     "status": "completed"
    },
    "tags": []
   },
   "outputs": [
    {
     "name": "stdout",
     "output_type": "stream",
     "text": [
      "Total Null Values: V1        0\n",
      "V2        0\n",
      "V3        0\n",
      "V4        0\n",
      "V5        0\n",
      "V6        0\n",
      "V7        0\n",
      "V8        0\n",
      "V9        0\n",
      "V10       0\n",
      "V11       0\n",
      "V12       0\n",
      "V13       0\n",
      "V14       0\n",
      "V15       0\n",
      "V16       0\n",
      "V17       0\n",
      "V18       0\n",
      "V19       0\n",
      "V20       0\n",
      "V21       0\n",
      "V22       0\n",
      "V23       0\n",
      "V24       0\n",
      "V25       0\n",
      "V26       0\n",
      "V27       0\n",
      "V28       0\n",
      "Amount    0\n",
      "Class     0\n",
      "dtype: int64\n"
     ]
    }
   ],
   "source": [
    "total_null_values = balanced_df.isna().sum()\n",
    "print(\"Total Null Values:\", total_null_values)"
   ]
  },
  {
   "cell_type": "code",
   "execution_count": 20,
   "id": "4c3f29d7",
   "metadata": {
    "execution": {
     "iopub.execute_input": "2023-12-24T14:09:01.575986Z",
     "iopub.status.busy": "2023-12-24T14:09:01.575684Z",
     "iopub.status.idle": "2023-12-24T14:09:01.608502Z",
     "shell.execute_reply": "2023-12-24T14:09:01.607445Z"
    },
    "papermill": {
     "duration": 0.045596,
     "end_time": "2023-12-24T14:09:01.610493",
     "exception": false,
     "start_time": "2023-12-24T14:09:01.564897",
     "status": "completed"
    },
    "tags": []
   },
   "outputs": [
    {
     "name": "stdout",
     "output_type": "stream",
     "text": [
      "Total Duplicates: 0\n"
     ]
    }
   ],
   "source": [
    "total_duplicates = balanced_df.duplicated().sum()\n",
    "print(\"Total Duplicates:\", total_duplicates)"
   ]
  },
  {
   "cell_type": "code",
   "execution_count": 21,
   "id": "6b3b0964",
   "metadata": {
    "execution": {
     "iopub.execute_input": "2023-12-24T14:09:01.632160Z",
     "iopub.status.busy": "2023-12-24T14:09:01.631812Z",
     "iopub.status.idle": "2023-12-24T14:09:01.672130Z",
     "shell.execute_reply": "2023-12-24T14:09:01.671130Z"
    },
    "papermill": {
     "duration": 0.053685,
     "end_time": "2023-12-24T14:09:01.674475",
     "exception": false,
     "start_time": "2023-12-24T14:09:01.620790",
     "status": "completed"
    },
    "tags": []
   },
   "outputs": [
    {
     "name": "stdout",
     "output_type": "stream",
     "text": [
      "             V1        V2        V3        V4        V5        V6        V7  \\\n",
      "0      1.649630 -0.768908  0.083791 -0.957894  0.861870  2.540980 -0.032549   \n",
      "1     -0.270852 -0.266564  1.198016  0.199319  1.779212  0.497062  0.896801   \n",
      "2      1.824471 -0.315163 -0.584480 -0.781332  2.284680  1.735121  0.511871   \n",
      "3     -0.431323 -0.140438 -0.266495 -0.047924 -0.751208  0.967540  1.252411   \n",
      "4      1.001507 -0.393355  0.619691 -0.369563  0.075739 -0.002063  0.380900   \n",
      "...         ...       ...       ...       ...       ...       ...       ...   \n",
      "14995  1.622485 -0.621083 -0.083808 -0.422964  1.323428  2.524770  0.175715   \n",
      "14996 -0.073170 -0.204650  0.776836 -0.655616  1.616048  2.737970  0.439679   \n",
      "14997  1.594432 -0.519362  0.181239 -0.059634  0.304859  0.684824  0.393083   \n",
      "14998  0.300123 -0.165475  1.658488  0.407091  0.058204  1.167922  0.066699   \n",
      "14999  0.962208 -0.519091  0.717963 -0.543808 -0.038885 -0.177372  0.399206   \n",
      "\n",
      "             V8        V9       V10  ...       V21       V22       V23  \\\n",
      "0      0.139629  1.683124  0.527414  ... -0.005657  0.736278  0.215203   \n",
      "1     -0.147747 -0.490323  0.984166  ... -0.097068 -0.296296 -0.420940   \n",
      "2     -0.025632  0.435417  0.234727  ... -0.130276 -0.109459 -0.060733   \n",
      "3     -0.144200 -0.594294 -0.433055  ... -0.077194 -0.762215  0.629519   \n",
      "4     -0.138519  0.548375  0.576099  ... -0.208969 -0.815333  0.120688   \n",
      "...         ...       ...       ...  ...       ...       ...       ...   \n",
      "14995  0.105437  1.205025  0.598122  ... -0.316014 -1.187225  0.458533   \n",
      "14996  0.150065  0.423572  0.409835  ... -0.335186 -1.242441 -0.127557   \n",
      "14997 -0.128440  1.003186  0.650625  ... -0.209810 -0.448167  0.220211   \n",
      "14998 -0.484907 -0.074883  0.766215  ... -0.440552  0.742647 -0.094449   \n",
      "14999 -0.176224  0.821460  0.528890  ... -0.229334 -1.009701  0.152005   \n",
      "\n",
      "            V24       V25       V26       V27       V28    Amount  Class  \n",
      "0      1.545444 -0.599755 -0.585179 -0.130988 -0.167245   6736.77      0  \n",
      "1      0.608973  1.813665  0.025187 -0.532434 -0.531596   5197.93      0  \n",
      "2      1.130152  0.605101  1.512410 -0.303468 -0.164607   4948.34      0  \n",
      "3      0.241379 -0.347982  1.006519  0.198860 -0.839527  23868.74      1  \n",
      "4      0.496653  0.105563  0.204364 -0.283662 -0.060972  22794.79      0  \n",
      "...         ...       ...       ...       ...       ...       ...    ...  \n",
      "14995  1.325544 -0.543643 -2.936364 -0.155879 -0.181999   7547.81      0  \n",
      "14996  1.351266  0.638042 -1.971390  0.219047  0.230171  22088.88      0  \n",
      "14997  1.484887 -0.021891 -2.296351 -0.200766 -0.198882  15429.14      0  \n",
      "14998  0.415286  0.946544  0.730276 -0.118968  0.308316   7239.62      1  \n",
      "14999  0.766419 -0.150560  1.015291 -0.328122 -0.049129  10048.86      0  \n",
      "\n",
      "[15000 rows x 30 columns]\n"
     ]
    }
   ],
   "source": [
    "balanced_df.drop_duplicates(inplace=True)\n",
    "print(balanced_df)"
   ]
  },
  {
   "cell_type": "code",
   "execution_count": 22,
   "id": "2a77f5e0",
   "metadata": {
    "execution": {
     "iopub.execute_input": "2023-12-24T14:09:01.695598Z",
     "iopub.status.busy": "2023-12-24T14:09:01.695253Z",
     "iopub.status.idle": "2023-12-24T14:09:01.765087Z",
     "shell.execute_reply": "2023-12-24T14:09:01.763949Z"
    },
    "papermill": {
     "duration": 0.082258,
     "end_time": "2023-12-24T14:09:01.766833",
     "exception": false,
     "start_time": "2023-12-24T14:09:01.684575",
     "status": "completed"
    },
    "tags": []
   },
   "outputs": [
    {
     "name": "stdout",
     "output_type": "stream",
     "text": [
      "                 V1            V2            V3            V4            V5  \\\n",
      "count  15000.000000  15000.000000  15000.000000  15000.000000  15000.000000   \n",
      "mean       0.237327     -0.229474      0.306925     -0.343349      0.164410   \n",
      "std        0.957117      0.878156      0.933029      0.935795      0.898902   \n",
      "min       -2.636127    -19.464020     -2.516968     -4.116263     -3.299044   \n",
      "25%       -0.321313     -0.584901     -0.181293     -0.931291     -0.118467   \n",
      "50%        0.040959     -0.308134      0.297546     -0.416640      0.169621   \n",
      "75%        0.984673     -0.005889      0.875185      0.186509      0.494973   \n",
      "max        2.164795      4.352364      3.989589      2.390767     32.538681   \n",
      "\n",
      "                 V6            V7            V8            V9           V10  \\\n",
      "count  15000.000000  15000.000000  15000.000000  15000.000000  15000.000000   \n",
      "mean       0.194870      0.226583     -0.054392      0.281411      0.318782   \n",
      "std        0.914970      0.777260      0.749887      0.937338      0.923316   \n",
      "min      -13.044546     -4.339038     -6.510596     -3.728034     -3.161694   \n",
      "25%       -0.187621      0.092081     -0.195214     -0.171360      0.076868   \n",
      "50%        0.205408      0.367626     -0.132579      0.314282      0.464607   \n",
      "75%        0.602145      0.594086     -0.023298      0.742530      0.690037   \n",
      "max        7.054983     13.492679      5.950224      8.751632     12.275958   \n",
      "\n",
      "       ...           V21           V22           V23           V24  \\\n",
      "count  ...  15000.000000  15000.000000  15000.000000  15000.000000   \n",
      "mean   ...     -0.050721     -0.009729     -0.004491      0.057736   \n",
      "std    ...      0.714086      0.831474      0.806580      1.083931   \n",
      "min    ...    -12.101141     -6.450353    -13.496678     -4.067968   \n",
      "25%    ...     -0.183574     -0.503946     -0.213073     -0.640101   \n",
      "50%    ...     -0.084345     -0.035935     -0.046418      0.067902   \n",
      "75%    ...      0.035880      0.453010      0.143839      0.815926   \n",
      "max    ...      8.087080      9.716228     21.034166     11.035900   \n",
      "\n",
      "                V25           V26           V27           V28        Amount  \\\n",
      "count  15000.000000  15000.000000  15000.000000  15000.000000  15000.000000   \n",
      "mean      -0.032325     -0.027966     -0.090275     -0.043854  12010.091769   \n",
      "std        0.935900      1.039795      0.791566      0.888035   6867.569738   \n",
      "min       -6.332190     -4.511876     -4.947034    -20.848764     51.600000   \n",
      "25%       -0.575670     -0.707117     -0.310879     -0.227185   6088.465000   \n",
      "50%       -0.034891     -0.034098     -0.209814     -0.049341  11977.045000   \n",
      "75%        0.520960      0.624829      0.046529      0.225821  17910.647500   \n",
      "max       10.458350      4.775370     22.915024     35.545563  24039.130000   \n",
      "\n",
      "              Class  \n",
      "count  15000.000000  \n",
      "mean       0.266667  \n",
      "std        0.442231  \n",
      "min        0.000000  \n",
      "25%        0.000000  \n",
      "50%        0.000000  \n",
      "75%        1.000000  \n",
      "max        1.000000  \n",
      "\n",
      "[8 rows x 30 columns]\n"
     ]
    }
   ],
   "source": [
    "description=balanced_df.describe()\n",
    "print(description)"
   ]
  },
  {
   "cell_type": "code",
   "execution_count": 23,
   "id": "8146843f",
   "metadata": {
    "execution": {
     "iopub.execute_input": "2023-12-24T14:09:01.788067Z",
     "iopub.status.busy": "2023-12-24T14:09:01.787603Z",
     "iopub.status.idle": "2023-12-24T14:09:01.793482Z",
     "shell.execute_reply": "2023-12-24T14:09:01.792412Z"
    },
    "papermill": {
     "duration": 0.018322,
     "end_time": "2023-12-24T14:09:01.795109",
     "exception": false,
     "start_time": "2023-12-24T14:09:01.776787",
     "status": "completed"
    },
    "tags": []
   },
   "outputs": [
    {
     "name": "stdout",
     "output_type": "stream",
     "text": [
      "Class Distribution:\n",
      "Class\n",
      "0    11000\n",
      "1     4000\n",
      "Name: count, dtype: int64\n"
     ]
    }
   ],
   "source": [
    "class_counts = balanced_df['Class'].value_counts()\n",
    "print(\"Class Distribution:\")\n",
    "print(class_counts)"
   ]
  },
  {
   "cell_type": "code",
   "execution_count": 24,
   "id": "bb6d5d12",
   "metadata": {
    "execution": {
     "iopub.execute_input": "2023-12-24T14:09:01.816314Z",
     "iopub.status.busy": "2023-12-24T14:09:01.815272Z",
     "iopub.status.idle": "2023-12-24T14:09:01.820375Z",
     "shell.execute_reply": "2023-12-24T14:09:01.819701Z"
    },
    "papermill": {
     "duration": 0.017125,
     "end_time": "2023-12-24T14:09:01.821907",
     "exception": false,
     "start_time": "2023-12-24T14:09:01.804782",
     "status": "completed"
    },
    "tags": []
   },
   "outputs": [],
   "source": [
    "X = balanced_df.drop([\"Class\"], axis=1)\n",
    "Y = balanced_df[\"Class\"]"
   ]
  },
  {
   "cell_type": "code",
   "execution_count": 25,
   "id": "d786ffaf",
   "metadata": {
    "execution": {
     "iopub.execute_input": "2023-12-24T14:09:01.843414Z",
     "iopub.status.busy": "2023-12-24T14:09:01.843025Z",
     "iopub.status.idle": "2023-12-24T14:09:01.849058Z",
     "shell.execute_reply": "2023-12-24T14:09:01.848523Z"
    },
    "papermill": {
     "duration": 0.018137,
     "end_time": "2023-12-24T14:09:01.850530",
     "exception": false,
     "start_time": "2023-12-24T14:09:01.832393",
     "status": "completed"
    },
    "tags": []
   },
   "outputs": [],
   "source": [
    "from sklearn.model_selection import train_test_split\n",
    "\n",
    "X_train, X_test, Y_train, Y_test = train_test_split(X, Y, test_size=0.2, random_state=3)"
   ]
  },
  {
   "cell_type": "code",
   "execution_count": 26,
   "id": "7e3db6d7",
   "metadata": {
    "execution": {
     "iopub.execute_input": "2023-12-24T14:09:01.871042Z",
     "iopub.status.busy": "2023-12-24T14:09:01.870648Z",
     "iopub.status.idle": "2023-12-24T14:09:02.319159Z",
     "shell.execute_reply": "2023-12-24T14:09:02.318215Z"
    },
    "papermill": {
     "duration": 0.461114,
     "end_time": "2023-12-24T14:09:02.321238",
     "exception": false,
     "start_time": "2023-12-24T14:09:01.860124",
     "status": "completed"
    },
    "tags": []
   },
   "outputs": [],
   "source": [
    "from sklearn.tree import DecisionTreeClassifier\n",
    "from sklearn.metrics import accuracy_score, classification_report, confusion_matrix\n",
    "\n",
    "dt_model = DecisionTreeClassifier(random_state=3)\n",
    "\n",
    "# Train the model on the training data\n",
    "dt_model.fit(X_train, Y_train)\n",
    "\n",
    "# Make predictions on the test set\n",
    "Y_pred = dt_model.predict(X_test)"
   ]
  },
  {
   "cell_type": "code",
   "execution_count": 27,
   "id": "101c9aad",
   "metadata": {
    "execution": {
     "iopub.execute_input": "2023-12-24T14:09:02.342894Z",
     "iopub.status.busy": "2023-12-24T14:09:02.342592Z",
     "iopub.status.idle": "2023-12-24T14:09:02.359555Z",
     "shell.execute_reply": "2023-12-24T14:09:02.358402Z"
    },
    "papermill": {
     "duration": 0.030096,
     "end_time": "2023-12-24T14:09:02.361589",
     "exception": false,
     "start_time": "2023-12-24T14:09:02.331493",
     "status": "completed"
    },
    "tags": []
   },
   "outputs": [
    {
     "name": "stdout",
     "output_type": "stream",
     "text": [
      "Accuracy Score: 0.9746666666666667\n",
      "\n",
      "Classification Report:\n",
      "              precision    recall  f1-score   support\n",
      "\n",
      "           0       0.99      0.98      0.98      2237\n",
      "           1       0.94      0.96      0.95       763\n",
      "\n",
      "    accuracy                           0.97      3000\n",
      "   macro avg       0.96      0.97      0.97      3000\n",
      "weighted avg       0.98      0.97      0.97      3000\n",
      "\n",
      "\n",
      "Confusion Matrix:\n",
      "[[2188   49]\n",
      " [  27  736]]\n"
     ]
    }
   ],
   "source": [
    "# Evaluate the model\n",
    "accuracy = accuracy_score(Y_test, Y_pred)\n",
    "classification_report_result = classification_report(Y_test, Y_pred)\n",
    "confusion_matrix_result = confusion_matrix(Y_test, Y_pred)\n",
    "\n",
    "# Print the results\n",
    "print(f\"Accuracy Score: {accuracy}\")\n",
    "print(\"\\nClassification Report:\")\n",
    "print(classification_report_result)\n",
    "print(\"\\nConfusion Matrix:\")\n",
    "print(confusion_matrix_result)"
   ]
  },
  {
   "cell_type": "code",
   "execution_count": 28,
   "id": "c015a477",
   "metadata": {
    "execution": {
     "iopub.execute_input": "2023-12-24T14:09:02.384782Z",
     "iopub.status.busy": "2023-12-24T14:09:02.384414Z",
     "iopub.status.idle": "2023-12-24T14:09:02.389297Z",
     "shell.execute_reply": "2023-12-24T14:09:02.388423Z"
    },
    "papermill": {
     "duration": 0.018407,
     "end_time": "2023-12-24T14:09:02.391192",
     "exception": false,
     "start_time": "2023-12-24T14:09:02.372785",
     "status": "completed"
    },
    "tags": []
   },
   "outputs": [],
   "source": [
    "from sklearn.svm import SVC\n",
    "from sklearn.metrics import accuracy_score, classification_report, confusion_matrix\n",
    "\n",
    "svm_model=SVC()\n"
   ]
  },
  {
   "cell_type": "code",
   "execution_count": 29,
   "id": "66dae9b0",
   "metadata": {
    "execution": {
     "iopub.execute_input": "2023-12-24T14:09:02.414232Z",
     "iopub.status.busy": "2023-12-24T14:09:02.413865Z",
     "iopub.status.idle": "2023-12-24T14:09:03.170209Z",
     "shell.execute_reply": "2023-12-24T14:09:03.169076Z"
    },
    "papermill": {
     "duration": 0.770243,
     "end_time": "2023-12-24T14:09:03.172445",
     "exception": false,
     "start_time": "2023-12-24T14:09:02.402202",
     "status": "completed"
    },
    "tags": []
   },
   "outputs": [
    {
     "name": "stdout",
     "output_type": "stream",
     "text": [
      "Accuracy Score:  0.984\n",
      "Confusion Matrix:\n",
      " [[2232    5]\n",
      " [  43  720]]\n",
      "Classification Report:\n",
      "               precision    recall  f1-score   support\n",
      "\n",
      "           0       0.98      1.00      0.99      2237\n",
      "           1       0.99      0.94      0.97       763\n",
      "\n",
      "    accuracy                           0.98      3000\n",
      "   macro avg       0.99      0.97      0.98      3000\n",
      "weighted avg       0.98      0.98      0.98      3000\n",
      "\n"
     ]
    }
   ],
   "source": [
    "from sklearn.preprocessing import StandardScaler\n",
    "\n",
    "\n",
    "scaler = StandardScaler()\n",
    "X_train_scaled = scaler.fit_transform(X_train)\n",
    "X_test_scaled = scaler.transform(X_test)\n",
    "\n",
    "svm_model.fit(X_train_scaled, Y_train)\n",
    "\n",
    "pred = svm_model.predict(X_test_scaled)\n",
    "\n",
    "print(\"Accuracy Score: \", accuracy_score(Y_test, pred))\n",
    "print(\"Confusion Matrix:\\n\", confusion_matrix(Y_test, pred))\n",
    "print(\"Classification Report:\\n\", classification_report(Y_test, pred))"
   ]
  },
  {
   "cell_type": "code",
   "execution_count": 30,
   "id": "596016c9",
   "metadata": {
    "execution": {
     "iopub.execute_input": "2023-12-24T14:09:03.194992Z",
     "iopub.status.busy": "2023-12-24T14:09:03.194701Z",
     "iopub.status.idle": "2023-12-24T14:09:03.357922Z",
     "shell.execute_reply": "2023-12-24T14:09:03.356621Z"
    },
    "papermill": {
     "duration": 0.177193,
     "end_time": "2023-12-24T14:09:03.360374",
     "exception": false,
     "start_time": "2023-12-24T14:09:03.183181",
     "status": "completed"
    },
    "tags": []
   },
   "outputs": [
    {
     "data": {
      "image/png": "[encoded data removed]",
      "text/plain": [
       "<Figure size 400x200 with 2 Axes>"
      ]
     },
     "metadata": {},
     "output_type": "display_data"
    }
   ],
   "source": [
    "import matplotlib.pyplot as plt\n",
    "import seaborn as sns\n",
    "\n",
    "cm = confusion_matrix(Y_test, pred)\n",
    "plt.figure(figsize=(4, 2))\n",
    "sns.heatmap(cm, annot=True, fmt=\"d\", cmap=\"Blues\", xticklabels=svm_model.classes_, yticklabels=svm_model.classes_)\n",
    "plt.title(\"Confusion Matrix\")\n",
    "plt.xlabel(\"Predicted\")\n",
    "plt.ylabel(\"Actual\")\n",
    "plt.show()"
   ]
  },
  {
   "cell_type": "code",
   "execution_count": 31,
   "id": "66433b5d",
   "metadata": {
    "execution": {
     "iopub.execute_input": "2023-12-24T14:09:03.393684Z",
     "iopub.status.busy": "2023-12-24T14:09:03.391702Z",
     "iopub.status.idle": "2023-12-24T14:09:04.947387Z",
     "shell.execute_reply": "2023-12-24T14:09:04.946074Z"
    },
    "papermill": {
     "duration": 1.574065,
     "end_time": "2023-12-24T14:09:04.949515",
     "exception": false,
     "start_time": "2023-12-24T14:09:03.375450",
     "status": "completed"
    },
    "tags": []
   },
   "outputs": [
    {
     "name": "stdout",
     "output_type": "stream",
     "text": [
      "        distance_from_home  distance_from_last_transaction  \\\n",
      "0                57.877857                        0.311140   \n",
      "1                10.829943                        0.175592   \n",
      "2                 5.091079                        0.805153   \n",
      "3                 2.247564                        5.600044   \n",
      "4                44.190936                        0.566486   \n",
      "...                    ...                             ...   \n",
      "999995            2.207101                        0.112651   \n",
      "999996           19.872726                        2.683904   \n",
      "999997            2.914857                        1.472687   \n",
      "999998            4.258729                        0.242023   \n",
      "999999           58.108125                        0.318110   \n",
      "\n",
      "        ratio_to_median_purchase_price  repeat_retailer  used_chip  \\\n",
      "0                             1.945940              1.0        1.0   \n",
      "1                             1.294219              1.0        0.0   \n",
      "2                             0.427715              1.0        0.0   \n",
      "3                             0.362663              1.0        1.0   \n",
      "4                             2.222767              1.0        1.0   \n",
      "...                                ...              ...        ...   \n",
      "999995                        1.626798              1.0        1.0   \n",
      "999996                        2.778303              1.0        1.0   \n",
      "999997                        0.218075              1.0        1.0   \n",
      "999998                        0.475822              1.0        0.0   \n",
      "999999                        0.386920              1.0        1.0   \n",
      "\n",
      "        used_pin_number  online_order  fraud  \n",
      "0                   0.0           0.0    0.0  \n",
      "1                   0.0           0.0    0.0  \n",
      "2                   0.0           1.0    0.0  \n",
      "3                   0.0           1.0    0.0  \n",
      "4                   0.0           1.0    0.0  \n",
      "...                 ...           ...    ...  \n",
      "999995              0.0           0.0    0.0  \n",
      "999996              0.0           0.0    0.0  \n",
      "999997              0.0           1.0    0.0  \n",
      "999998              0.0           1.0    0.0  \n",
      "999999              0.0           1.0    0.0  \n",
      "\n",
      "[1000000 rows x 8 columns]\n"
     ]
    }
   ],
   "source": [
    "dataset_path3 = '/kaggle/input/credit-card-fraud/card_transdata.csv'# Update with your dataset path\n",
    "df = pd.read_csv(dataset_path3)\n",
    "\n",
    "print(df)"
   ]
  },
  {
   "cell_type": "code",
   "execution_count": 32,
   "id": "b41d33dc",
   "metadata": {
    "execution": {
     "iopub.execute_input": "2023-12-24T14:09:04.973187Z",
     "iopub.status.busy": "2023-12-24T14:09:04.972869Z",
     "iopub.status.idle": "2023-12-24T14:09:05.039058Z",
     "shell.execute_reply": "2023-12-24T14:09:05.037539Z"
    },
    "papermill": {
     "duration": 0.080443,
     "end_time": "2023-12-24T14:09:05.041052",
     "exception": false,
     "start_time": "2023-12-24T14:09:04.960609",
     "status": "completed"
    },
    "tags": []
   },
   "outputs": [
    {
     "name": "stdout",
     "output_type": "stream",
     "text": [
      "       distance_from_home  distance_from_last_transaction  \\\n",
      "0              112.196213                        0.519505   \n",
      "1                1.528060                        8.016795   \n",
      "2                0.945135                       19.667539   \n",
      "3                4.967883                        0.655414   \n",
      "4                1.539647                        9.851696   \n",
      "...                   ...                             ...   \n",
      "13495            2.283874                       13.568183   \n",
      "13496            2.365638                        9.670175   \n",
      "13497            3.650959                        0.864102   \n",
      "13498            0.963339                        0.296959   \n",
      "13499           20.862876                        6.693626   \n",
      "\n",
      "       ratio_to_median_purchase_price  repeat_retailer  used_chip  \\\n",
      "0                            6.296167              1.0        0.0   \n",
      "1                            0.744201              0.0        0.0   \n",
      "2                            2.721887              0.0        1.0   \n",
      "3                            0.326967              1.0        0.0   \n",
      "4                            1.368305              0.0        0.0   \n",
      "...                               ...              ...        ...   \n",
      "13495                        3.994314              1.0        1.0   \n",
      "13496                        0.493901              1.0        0.0   \n",
      "13497                        1.644197              1.0        0.0   \n",
      "13498                        0.350651              0.0        0.0   \n",
      "13499                        3.512449              1.0        0.0   \n",
      "\n",
      "       used_pin_number  online_order  fraud  \n",
      "0                  0.0           1.0    1.0  \n",
      "1                  0.0           1.0    0.0  \n",
      "2                  1.0           0.0    0.0  \n",
      "3                  0.0           1.0    0.0  \n",
      "4                  0.0           1.0    0.0  \n",
      "...                ...           ...    ...  \n",
      "13495              0.0           1.0    0.0  \n",
      "13496              0.0           0.0    0.0  \n",
      "13497              0.0           1.0    0.0  \n",
      "13498              0.0           1.0    0.0  \n",
      "13499              0.0           0.0    0.0  \n",
      "\n",
      "[13500 rows x 8 columns]\n"
     ]
    }
   ],
   "source": [
    "fraud_data = df[df['fraud'] == 1.0]\n",
    "not_fraud_data = df[df['fraud'] == 0.0]\n",
    "\n",
    "fraud_size = 3000 \n",
    "\n",
    "# Randomly sample a subset of fraud data\n",
    "fraud_data_sampled = fraud_data.sample(n=fraud_size, random_state=42)\n",
    "\n",
    "nonfraud_size = 10500\n",
    "# Randomly sample a subset of not fraud data\n",
    "not_fraud_data_sampled = not_fraud_data.sample(n=nonfraud_size, random_state=42)\n",
    "\n",
    "# Concatenate fraud and sampled not fraud data to create a partially balanced dataset\n",
    "balanced_df = pd.concat([fraud_data_sampled, not_fraud_data_sampled])\n",
    "\n",
    "# Shuffle the dataset\n",
    "balanced_df = balanced_df.sample(frac=1, random_state=42).reset_index(drop=True)\n",
    "\n",
    "# Shuffle the dataset\n",
    "balanced_df = balanced_df.sample(frac=1, random_state=42).reset_index(drop=True)\n",
    "\n",
    "print(balanced_df)"
   ]
  },
  {
   "cell_type": "code",
   "execution_count": 33,
   "id": "1ec1f337",
   "metadata": {
    "execution": {
     "iopub.execute_input": "2023-12-24T14:09:05.064183Z",
     "iopub.status.busy": "2023-12-24T14:09:05.063836Z",
     "iopub.status.idle": "2023-12-24T14:09:05.071376Z",
     "shell.execute_reply": "2023-12-24T14:09:05.070028Z"
    },
    "papermill": {
     "duration": 0.021193,
     "end_time": "2023-12-24T14:09:05.073099",
     "exception": false,
     "start_time": "2023-12-24T14:09:05.051906",
     "status": "completed"
    },
    "tags": []
   },
   "outputs": [
    {
     "name": "stdout",
     "output_type": "stream",
     "text": [
      "Total Null Values: distance_from_home                0\n",
      "distance_from_last_transaction    0\n",
      "ratio_to_median_purchase_price    0\n",
      "repeat_retailer                   0\n",
      "used_chip                         0\n",
      "used_pin_number                   0\n",
      "online_order                      0\n",
      "fraud                             0\n",
      "dtype: int64\n"
     ]
    }
   ],
   "source": [
    "total_null_values = balanced_df.isna().sum()\n",
    "print(\"Total Null Values:\", total_null_values)"
   ]
  },
  {
   "cell_type": "code",
   "execution_count": 34,
   "id": "bf284151",
   "metadata": {
    "execution": {
     "iopub.execute_input": "2023-12-24T14:09:05.096932Z",
     "iopub.status.busy": "2023-12-24T14:09:05.095943Z",
     "iopub.status.idle": "2023-12-24T14:09:05.105982Z",
     "shell.execute_reply": "2023-12-24T14:09:05.104941Z"
    },
    "papermill": {
     "duration": 0.023787,
     "end_time": "2023-12-24T14:09:05.107892",
     "exception": false,
     "start_time": "2023-12-24T14:09:05.084105",
     "status": "completed"
    },
    "tags": []
   },
   "outputs": [
    {
     "name": "stdout",
     "output_type": "stream",
     "text": [
      "Total Duplicates: 0\n"
     ]
    }
   ],
   "source": [
    "total_duplicates = balanced_df.duplicated().sum()\n",
    "print(\"Total Duplicates:\", total_duplicates)"
   ]
  },
  {
   "cell_type": "code",
   "execution_count": 35,
   "id": "706f9ed1",
   "metadata": {
    "execution": {
     "iopub.execute_input": "2023-12-24T14:09:05.131463Z",
     "iopub.status.busy": "2023-12-24T14:09:05.131103Z",
     "iopub.status.idle": "2023-12-24T14:09:05.144977Z",
     "shell.execute_reply": "2023-12-24T14:09:05.143993Z"
    },
    "papermill": {
     "duration": 0.028171,
     "end_time": "2023-12-24T14:09:05.147195",
     "exception": false,
     "start_time": "2023-12-24T14:09:05.119024",
     "status": "completed"
    },
    "tags": []
   },
   "outputs": [
    {
     "name": "stdout",
     "output_type": "stream",
     "text": [
      "       distance_from_home  distance_from_last_transaction  \\\n",
      "0              112.196213                        0.519505   \n",
      "1                1.528060                        8.016795   \n",
      "2                0.945135                       19.667539   \n",
      "3                4.967883                        0.655414   \n",
      "4                1.539647                        9.851696   \n",
      "...                   ...                             ...   \n",
      "13495            2.283874                       13.568183   \n",
      "13496            2.365638                        9.670175   \n",
      "13497            3.650959                        0.864102   \n",
      "13498            0.963339                        0.296959   \n",
      "13499           20.862876                        6.693626   \n",
      "\n",
      "       ratio_to_median_purchase_price  repeat_retailer  used_chip  \\\n",
      "0                            6.296167              1.0        0.0   \n",
      "1                            0.744201              0.0        0.0   \n",
      "2                            2.721887              0.0        1.0   \n",
      "3                            0.326967              1.0        0.0   \n",
      "4                            1.368305              0.0        0.0   \n",
      "...                               ...              ...        ...   \n",
      "13495                        3.994314              1.0        1.0   \n",
      "13496                        0.493901              1.0        0.0   \n",
      "13497                        1.644197              1.0        0.0   \n",
      "13498                        0.350651              0.0        0.0   \n",
      "13499                        3.512449              1.0        0.0   \n",
      "\n",
      "       used_pin_number  online_order  fraud  \n",
      "0                  0.0           1.0    1.0  \n",
      "1                  0.0           1.0    0.0  \n",
      "2                  1.0           0.0    0.0  \n",
      "3                  0.0           1.0    0.0  \n",
      "4                  0.0           1.0    0.0  \n",
      "...                ...           ...    ...  \n",
      "13495              0.0           1.0    0.0  \n",
      "13496              0.0           0.0    0.0  \n",
      "13497              0.0           1.0    0.0  \n",
      "13498              0.0           1.0    0.0  \n",
      "13499              0.0           0.0    0.0  \n",
      "\n",
      "[13500 rows x 8 columns]\n"
     ]
    }
   ],
   "source": [
    "balanced_df.drop_duplicates(inplace=True)\n",
    "print(balanced_df)"
   ]
  },
  {
   "cell_type": "code",
   "execution_count": 36,
   "id": "9f7161ae",
   "metadata": {
    "execution": {
     "iopub.execute_input": "2023-12-24T14:09:05.170308Z",
     "iopub.status.busy": "2023-12-24T14:09:05.170014Z",
     "iopub.status.idle": "2023-12-24T14:09:05.195399Z",
     "shell.execute_reply": "2023-12-24T14:09:05.194276Z"
    },
    "papermill": {
     "duration": 0.038486,
     "end_time": "2023-12-24T14:09:05.197036",
     "exception": false,
     "start_time": "2023-12-24T14:09:05.158550",
     "status": "completed"
    },
    "tags": []
   },
   "outputs": [
    {
     "name": "stdout",
     "output_type": "stream",
     "text": [
      "       distance_from_home  distance_from_last_transaction  \\\n",
      "count        13500.000000                    13500.000000   \n",
      "mean            33.225840                        5.983725   \n",
      "std             77.370600                       27.279253   \n",
      "min              0.034267                        0.000676   \n",
      "25%              4.000824                        0.297753   \n",
      "50%             10.719665                        0.985215   \n",
      "75%             29.663779                        3.466985   \n",
      "max           2290.137093                     1872.446884   \n",
      "\n",
      "       ratio_to_median_purchase_price  repeat_retailer     used_chip  \\\n",
      "count                    13500.000000     13500.000000  13500.000000   \n",
      "mean                         2.471209         0.886815      0.338889   \n",
      "std                          3.630707         0.316831      0.473350   \n",
      "min                          0.016867         0.000000      0.000000   \n",
      "25%                          0.538999         1.000000      0.000000   \n",
      "50%                          1.206245         1.000000      0.000000   \n",
      "75%                          3.013868         1.000000      1.000000   \n",
      "max                         94.132574         1.000000      1.000000   \n",
      "\n",
      "       used_pin_number  online_order         fraud  \n",
      "count     13500.000000  13500.000000  13500.000000  \n",
      "mean          0.087926      0.690963      0.222222  \n",
      "std           0.283198      0.462114      0.415755  \n",
      "min           0.000000      0.000000      0.000000  \n",
      "25%           0.000000      0.000000      0.000000  \n",
      "50%           0.000000      1.000000      0.000000  \n",
      "75%           0.000000      1.000000      0.000000  \n",
      "max           1.000000      1.000000      1.000000  \n"
     ]
    }
   ],
   "source": [
    "description=balanced_df.describe()\n",
    "print(description)"
   ]
  },
  {
   "cell_type": "code",
   "execution_count": 37,
   "id": "f4375267",
   "metadata": {
    "execution": {
     "iopub.execute_input": "2023-12-24T14:09:05.220601Z",
     "iopub.status.busy": "2023-12-24T14:09:05.219723Z",
     "iopub.status.idle": "2023-12-24T14:09:05.226498Z",
     "shell.execute_reply": "2023-12-24T14:09:05.225418Z"
    },
    "papermill": {
     "duration": 0.020165,
     "end_time": "2023-12-24T14:09:05.228085",
     "exception": false,
     "start_time": "2023-12-24T14:09:05.207920",
     "status": "completed"
    },
    "tags": []
   },
   "outputs": [
    {
     "name": "stdout",
     "output_type": "stream",
     "text": [
      "Class Distribution:\n",
      "fraud\n",
      "0.0    10500\n",
      "1.0     3000\n",
      "Name: count, dtype: int64\n"
     ]
    }
   ],
   "source": [
    "class_counts = balanced_df['fraud'].value_counts()\n",
    "print(\"Class Distribution:\")\n",
    "print(class_counts)"
   ]
  },
  {
   "cell_type": "code",
   "execution_count": 38,
   "id": "44a29bce",
   "metadata": {
    "execution": {
     "iopub.execute_input": "2023-12-24T14:09:05.251089Z",
     "iopub.status.busy": "2023-12-24T14:09:05.250491Z",
     "iopub.status.idle": "2023-12-24T14:09:05.255272Z",
     "shell.execute_reply": "2023-12-24T14:09:05.254627Z"
    },
    "papermill": {
     "duration": 0.018219,
     "end_time": "2023-12-24T14:09:05.256896",
     "exception": false,
     "start_time": "2023-12-24T14:09:05.238677",
     "status": "completed"
    },
    "tags": []
   },
   "outputs": [],
   "source": [
    "X = balanced_df.drop([\"fraud\"], axis=1)\n",
    "Y = balanced_df[\"fraud\"]"
   ]
  },
  {
   "cell_type": "code",
   "execution_count": 39,
   "id": "028d28eb",
   "metadata": {
    "execution": {
     "iopub.execute_input": "2023-12-24T14:09:05.279503Z",
     "iopub.status.busy": "2023-12-24T14:09:05.279142Z",
     "iopub.status.idle": "2023-12-24T14:09:05.286343Z",
     "shell.execute_reply": "2023-12-24T14:09:05.285277Z"
    },
    "papermill": {
     "duration": 0.020769,
     "end_time": "2023-12-24T14:09:05.288312",
     "exception": false,
     "start_time": "2023-12-24T14:09:05.267543",
     "status": "completed"
    },
    "tags": []
   },
   "outputs": [],
   "source": [
    "from sklearn.model_selection import train_test_split\n",
    "\n",
    "X_train, X_test, Y_train, Y_test = train_test_split(X, Y, test_size=0.2, random_state=3)"
   ]
  },
  {
   "cell_type": "code",
   "execution_count": 40,
   "id": "a7df35f2",
   "metadata": {
    "execution": {
     "iopub.execute_input": "2023-12-24T14:09:05.312755Z",
     "iopub.status.busy": "2023-12-24T14:09:05.311539Z",
     "iopub.status.idle": "2023-12-24T14:09:05.338939Z",
     "shell.execute_reply": "2023-12-24T14:09:05.337913Z"
    },
    "papermill": {
     "duration": 0.041589,
     "end_time": "2023-12-24T14:09:05.341091",
     "exception": false,
     "start_time": "2023-12-24T14:09:05.299502",
     "status": "completed"
    },
    "tags": []
   },
   "outputs": [],
   "source": [
    "from sklearn.tree import DecisionTreeClassifier\n",
    "from sklearn.metrics import accuracy_score, classification_report, confusion_matrix\n",
    "\n",
    "dt_model = DecisionTreeClassifier(random_state=3)\n",
    "\n",
    "# Train the model on the training data\n",
    "dt_model.fit(X_train, Y_train)\n",
    "\n",
    "# Make predictions on the test set\n",
    "Y_pred = dt_model.predict(X_test)"
   ]
  },
  {
   "cell_type": "code",
   "execution_count": 41,
   "id": "9fcb9c9c",
   "metadata": {
    "execution": {
     "iopub.execute_input": "2023-12-24T14:09:05.364494Z",
     "iopub.status.busy": "2023-12-24T14:09:05.364165Z",
     "iopub.status.idle": "2023-12-24T14:09:05.381981Z",
     "shell.execute_reply": "2023-12-24T14:09:05.380781Z"
    },
    "papermill": {
     "duration": 0.031458,
     "end_time": "2023-12-24T14:09:05.383961",
     "exception": false,
     "start_time": "2023-12-24T14:09:05.352503",
     "status": "completed"
    },
    "tags": []
   },
   "outputs": [
    {
     "name": "stdout",
     "output_type": "stream",
     "text": [
      "Accuracy Score: 0.9985185185185185\n",
      "\n",
      "Classification Report:\n",
      "              precision    recall  f1-score   support\n",
      "\n",
      "         0.0       1.00      1.00      1.00      2097\n",
      "         1.0       0.99      1.00      1.00       603\n",
      "\n",
      "    accuracy                           1.00      2700\n",
      "   macro avg       1.00      1.00      1.00      2700\n",
      "weighted avg       1.00      1.00      1.00      2700\n",
      "\n",
      "\n",
      "Confusion Matrix:\n",
      "[[2093    4]\n",
      " [   0  603]]\n"
     ]
    }
   ],
   "source": [
    "# Evaluate the model\n",
    "accuracy = accuracy_score(Y_test, Y_pred)\n",
    "classification_report_result = classification_report(Y_test, Y_pred)\n",
    "confusion_matrix_result = confusion_matrix(Y_test, Y_pred)\n",
    "\n",
    "# Print the results\n",
    "print(f\"Accuracy Score: {accuracy}\")\n",
    "print(\"\\nClassification Report:\")\n",
    "print(classification_report_result)\n",
    "print(\"\\nConfusion Matrix:\")\n",
    "print(confusion_matrix_result)"
   ]
  },
  {
   "cell_type": "code",
   "execution_count": 42,
   "id": "aceb6719",
   "metadata": {
    "execution": {
     "iopub.execute_input": "2023-12-24T14:09:05.406999Z",
     "iopub.status.busy": "2023-12-24T14:09:05.406742Z",
     "iopub.status.idle": "2023-12-24T14:09:05.889398Z",
     "shell.execute_reply": "2023-12-24T14:09:05.888040Z"
    },
    "papermill": {
     "duration": 0.49618,
     "end_time": "2023-12-24T14:09:05.891329",
     "exception": false,
     "start_time": "2023-12-24T14:09:05.395149",
     "status": "completed"
    },
    "tags": []
   },
   "outputs": [
    {
     "name": "stdout",
     "output_type": "stream",
     "text": [
      "Accuracy Score:  0.9874074074074074\n",
      "Confusion Matrix:\n",
      " [[2078   19]\n",
      " [  15  588]]\n",
      "Classification Report:\n",
      "               precision    recall  f1-score   support\n",
      "\n",
      "         0.0       0.99      0.99      0.99      2097\n",
      "         1.0       0.97      0.98      0.97       603\n",
      "\n",
      "    accuracy                           0.99      2700\n",
      "   macro avg       0.98      0.98      0.98      2700\n",
      "weighted avg       0.99      0.99      0.99      2700\n",
      "\n"
     ]
    }
   ],
   "source": [
    "from sklearn.svm import SVC\n",
    "from sklearn.metrics import accuracy_score, classification_report, confusion_matrix\n",
    "from sklearn.preprocessing import StandardScaler\n",
    "\n",
    "svm_model=SVC()\n",
    "\n",
    "scaler = StandardScaler()\n",
    "X_train_scaled = scaler.fit_transform(X_train)\n",
    "X_test_scaled = scaler.transform(X_test)\n",
    "\n",
    "svm_model.fit(X_train_scaled, Y_train)\n",
    "\n",
    "pred = svm_model.predict(X_test_scaled)\n",
    "\n",
    "print(\"Accuracy Score: \", accuracy_score(Y_test, pred))\n",
    "print(\"Confusion Matrix:\\n\", confusion_matrix(Y_test, pred))\n",
    "print(\"Classification Report:\\n\", classification_report(Y_test, pred))"
   ]
  },
  {
   "cell_type": "code",
   "execution_count": 43,
   "id": "75bd3f09",
   "metadata": {
    "execution": {
     "iopub.execute_input": "2023-12-24T14:09:05.916099Z",
     "iopub.status.busy": "2023-12-24T14:09:05.915186Z",
     "iopub.status.idle": "2023-12-24T14:09:06.099804Z",
     "shell.execute_reply": "2023-12-24T14:09:06.098627Z"
    },
    "papermill": {
     "duration": 0.199434,
     "end_time": "2023-12-24T14:09:06.102190",
     "exception": false,
     "start_time": "2023-12-24T14:09:05.902756",
     "status": "completed"
    },
    "tags": []
   },
   "outputs": [
    {
     "data": {
      "image/png": "[encoded data removed]",
      "text/plain": [
       "<Figure size 400x200 with 2 Axes>"
      ]
     },
     "metadata": {},
     "output_type": "display_data"
    }
   ],
   "source": [
    "import matplotlib.pyplot as plt\n",
    "import seaborn as sns\n",
    "\n",
    "cm = confusion_matrix(Y_test, pred)\n",
    "plt.figure(figsize=(4, 2))\n",
    "sns.heatmap(cm, annot=True, fmt=\"d\", cmap=\"Blues\", xticklabels=svm_model.classes_, yticklabels=svm_model.classes_)\n",
    "plt.title(\"Confusion Matrix\")\n",
    "plt.xlabel(\"Predicted\")\n",
    "plt.ylabel(\"Actual\")\n",
    "plt.show()"
   ]
  }
 ],
 "metadata": {
  "kaggle": {
   "accelerator": "none",
   "dataSources": [
    {
     "datasetId": 310,
     "sourceId": 23498,
     "sourceType": "datasetVersion"
    },
    {
     "datasetId": 2156255,
     "sourceId": 3594108,
     "sourceType": "datasetVersion"
    },
    {
     "datasetId": 3752264,
     "sourceId": 6492730,
     "sourceType": "datasetVersion"
    }
   ],
   "dockerImageVersionId": 30615,
   "isGpuEnabled": false,
   "isInternetEnabled": false,
   "language": "python",
   "sourceType": "notebook"
  },
  "kernelspec": {
   "display_name": "Python 3",
   "language": "python",
   "name": "python3"
  },
  "language_info": {
   "codemirror_mode": {
    "name": "ipython",
    "version": 3
   },
   "file_extension": ".py",
   "mimetype": "text/x-python",
   "name": "python",
   "nbconvert_exporter": "python",
   "pygments_lexer": "ipython3",
   "version": "3.10.12"
  },
  "papermill": {
   "default_parameters": {},
   "duration": 21.659943,
   "end_time": "2023-12-24T14:09:06.635207",
   "environment_variables": {},
   "exception": null,
   "input_path": "__notebook__.ipynb",
   "output_path": "__notebook__.ipynb",
   "parameters": {},
   "start_time": "2023-12-24T14:08:44.975264",
   "version": "2.4.0"
  }
 },
 "nbformat": 4,
 "nbformat_minor": 5
}
